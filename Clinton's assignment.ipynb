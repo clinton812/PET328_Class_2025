{
 "cells": [
  {
   "cell_type": "code",
   "execution_count": 3,
   "id": "2f6eea37-6d2f-4b70-9de1-627bc562ecbf",
   "metadata": {
    "scrolled": true
   },
   "outputs": [
    {
     "name": "stdin",
     "output_type": "stream",
     "text": [
      "What is the length of the reservoir in x-direction? 1000\n",
      "What is the length of the reservoir in y-direction? 1000\n",
      "What is the length of the reservoir in z-direction? 1000\n",
      "How many blocks there are in x-axis? 2\n",
      "How many blocks there are in y-axis? 2\n",
      "How many layers are there in z-axis? 2\n",
      "What is our cutoff value for permeability? 5\n"
     ]
    },
    {
     "name": "stdout",
     "output_type": "stream",
     "text": [
      "This is block 1\n"
     ]
    },
    {
     "name": "stdin",
     "output_type": "stream",
     "text": [
      "What is the permeability of this block? 3\n"
     ]
    },
    {
     "name": "stdout",
     "output_type": "stream",
     "text": [
      "This is block 2\n"
     ]
    },
    {
     "name": "stdin",
     "output_type": "stream",
     "text": [
      "What is the permeability of this block? 7\n"
     ]
    },
    {
     "name": "stdout",
     "output_type": "stream",
     "text": [
      "This is block 3\n"
     ]
    },
    {
     "name": "stdin",
     "output_type": "stream",
     "text": [
      "What is the permeability of this block? 9\n"
     ]
    },
    {
     "name": "stdout",
     "output_type": "stream",
     "text": [
      "This is block 4\n"
     ]
    },
    {
     "name": "stdin",
     "output_type": "stream",
     "text": [
      "What is the permeability of this block? 4\n"
     ]
    },
    {
     "name": "stdout",
     "output_type": "stream",
     "text": [
      "There were 2 active gridblocks in layer 1, 2 inactive gridblocks\n",
      "There have been 1 layers\n",
      "This is block 5\n"
     ]
    },
    {
     "name": "stdin",
     "output_type": "stream",
     "text": [
      "What is the permeability of this block? 2\n"
     ]
    },
    {
     "name": "stdout",
     "output_type": "stream",
     "text": [
      "This is block 6\n"
     ]
    },
    {
     "name": "stdin",
     "output_type": "stream",
     "text": [
      "What is the permeability of this block? 6\n"
     ]
    },
    {
     "name": "stdout",
     "output_type": "stream",
     "text": [
      "This is block 7\n"
     ]
    },
    {
     "name": "stdin",
     "output_type": "stream",
     "text": [
      "What is the permeability of this block? 8\n"
     ]
    },
    {
     "name": "stdout",
     "output_type": "stream",
     "text": [
      "This is block 8\n"
     ]
    },
    {
     "name": "stdin",
     "output_type": "stream",
     "text": [
      "What is the permeability of this block? 1\n"
     ]
    },
    {
     "name": "stdout",
     "output_type": "stream",
     "text": [
      "There were 2 active gridblocks in layer 2, 2 inactive gridblocks\n",
      "There have been 2 layers\n",
      "There are 4 active gridblocks\n",
      "There are 4 inactive gridblocks\n",
      "Out of 8 gridblocks\n",
      "50.0% of the gridblocks are active in the entire reservoir\n"
     ]
    }
   ],
   "source": [
    "## A script to classify and count 'active' and 'inactive' gridblocks in a discretized reservoir\n",
    "\n",
    "#################### Task 1 ############################\n",
    "    # Request for reservoir dimensions and discretization parameters\n",
    "Lx = float(input('What is the length of the reservoir in x-direction?'))\n",
    "Ly = float(input('What is the length of the reservoir in y-direction?'))\n",
    "Lz = float(input('What is the length of the reservoir in z-direction?'))\n",
    "nx = int(input('How many blocks there are in x-axis?'))\n",
    "ny = int(input('How many blocks there are in y-axis?'))\n",
    "nz = int(input('How many layers are there in z-axis?'))\n",
    "\n",
    "#################### Task 2 ############################\n",
    "    # Request for the cut-off value\n",
    "cut_off = float(input('What is our cutoff value for permeability?'))\n",
    "\n",
    "#################### Task 3 ############################\n",
    "    # Initialize counters\n",
    "Active_layer = 0\n",
    "Inactive_layer = 0\n",
    "\n",
    "\n",
    "\n",
    "### Task 4 ############################\n",
    "    # Loop through all blocks (nested loop)\n",
    "for k in range(1, nz+1):\n",
    "    # Initialize layer counter\n",
    "    k = 0 + k\n",
    "    b = 0\n",
    "    d = 0\n",
    "    # two nested loops go here\n",
    "    for j in range(1,ny+1):\n",
    "        for i in range(1,nx+1):\n",
    "            block = i + (j -1)*nx +(k-1)*nx*ny    # formula for 3D\n",
    "            print(f'This is block {block}')\n",
    "            cperm= float(input('What is the permeability of this block?'))\n",
    "            if cperm > cut_off:\n",
    "                Active_layer = Active_layer + 1\n",
    "                b = b+1\n",
    "            if cperm <= cut_off:\n",
    "                d = d+1\n",
    "                Inactive_layer = Inactive_layer + 1\n",
    "    # Print layer count\n",
    "    print(f'There were {b} active gridblocks in layer {k}, {d} inactive gridblocks')\n",
    "    print(f'There have been {k} layers')\n",
    "\n",
    "#################### Task 5 ############################\n",
    "    # Print overall counts\n",
    "\n",
    "# Print 'active'\n",
    "print(f'There are {Active_layer} active gridblocks')\n",
    "\n",
    "# Print 'inactive'\n",
    "print(f'There are {Inactive_layer} inactive gridblocks')\n",
    "print(f'Out of {Active_layer+Inactive_layer} gridblocks')\n",
    "percent = (Active_layer / (Active_layer + Inactive_layer)) * 100\n",
    "print(f'{percent}% of the gridblocks are active in the entire reservoir')\n",
    "\n",
    "\n"
   ]
  },
  {
   "cell_type": "code",
   "execution_count": null,
   "id": "52edf7bd-459c-4cc6-9d72-0ddaaef2cbf2",
   "metadata": {},
   "outputs": [],
   "source": []
  }
 ],
 "metadata": {
  "kernelspec": {
   "display_name": "Python 3 (ipykernel)",
   "language": "python",
   "name": "python3"
  },
  "language_info": {
   "codemirror_mode": {
    "name": "ipython",
    "version": 3
   },
   "file_extension": ".py",
   "mimetype": "text/x-python",
   "name": "python",
   "nbconvert_exporter": "python",
   "pygments_lexer": "ipython3",
   "version": "3.12.7"
  }
 },
 "nbformat": 4,
 "nbformat_minor": 5
}
